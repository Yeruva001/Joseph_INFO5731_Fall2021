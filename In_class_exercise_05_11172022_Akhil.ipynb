{
  "cells": [
    {
      "cell_type": "markdown",
      "metadata": {
        "id": "view-in-github",
        "colab_type": "text"
      },
      "source": [
        "<a href=\"https://colab.research.google.com/github/Yeruva001/Joseph_INFO5731_Fall2021/blob/main/In_class_exercise_05_11172022_Akhil.ipynb\" target=\"_parent\"><img src=\"https://colab.research.google.com/assets/colab-badge.svg\" alt=\"Open In Colab\"/></a>"
      ]
    },
    {
      "cell_type": "markdown",
      "metadata": {
        "id": "h4LKTf7B9uEE"
      },
      "source": [
        "# **The fifth in-class-exercise (40 points in total, 11/17/2022)**"
      ]
    },
    {
      "cell_type": "markdown",
      "metadata": {
        "id": "B-W-T7Du9uEJ"
      },
      "source": [
        "(20 points) The purpose of the question is to practice different machine learning algorithms for text classification as well as the performance evaluation. In addition, you are requried to conduct *10 fold cross validation (https://scikit-learn.org/stable/modules/cross_validation.html)* in the training. \n",
        "\n",
        "The dataset can be download from canvas. The dataset contains two files train data and test data for sentiment analysis in IMDB review, it has two categories: 1 represents positive and 0 represents negative. You need to split the training data into training and validate data (80% for training and 20% for validation, https://towardsdatascience.com/train-test-split-and-cross-validation-in-python-80b61beca4b6) and perform 10 fold cross validation while training the classifier. The final trained model was final evaluated on the test data. \n",
        "\n",
        "Algorithms:\n",
        "\n",
        "(1) MultinominalNB\n",
        "\n",
        "(2) SVM \n",
        "\n",
        "(3) KNN \n",
        "\n",
        "(4) Decision tree\n",
        "\n",
        "(5) Random Forest\n",
        "\n",
        "(6) XGBoost\n",
        "\n",
        "Evaluation measurement:\n",
        "\n",
        "(1) Accuracy\n",
        "\n",
        "(2) Recall\n",
        "\n",
        "(3) Precison \n",
        "\n",
        "(4) F-1 score"
      ]
    },
    {
      "cell_type": "code",
      "execution_count": 98,
      "metadata": {
        "colab": {
          "base_uri": "https://localhost:8080/"
        },
        "id": "LEbZD_M79uEL",
        "outputId": "f1c08764-ecc1-499c-e56a-717018cfd31b"
      },
      "outputs": [
        {
          "output_type": "stream",
          "name": "stderr",
          "text": [
            "/usr/local/lib/python3.7/dist-packages/pandas/util/_decorators.py:311: ParserWarning: Falling back to the 'python' engine because the 'c' engine does not support regex separators (separators > 1 char and different from '\\s+' are interpreted as regex); you can avoid this warning by specifying engine='python'.\n",
            "  return func(*args, **kwargs)\n"
          ]
        }
      ],
      "source": [
        "# Write your code here\n",
        "\n",
        "import pandas as pd\n",
        "from xgboost import XGBClassifier\n",
        "from sklearn.svm import LinearSVC\n",
        "from sklearn.naive_bayes import MultinomialNB\n",
        "from sklearn.tree import DecisionTreeClassifier\n",
        "from sklearn.neighbors import KNeighborsClassifier\n",
        "from sklearn.ensemble import RandomForestClassifier\n",
        "from sklearn.metrics import accuracy_score, recall_score, precision_score, f1_score\n",
        "from sklearn.model_selection import train_test_split, cross_validate, StratifiedKFold\n",
        "\n",
        "Training_dataframe = pd.read_csv(r'/content/stsa-train.txt',sep = 'delimiter=',header= None,names=['abstract'])\n",
        "Testing_dataframe = pd.read_csv(r'/content/stsa-test.txt',sep = 'delimiter=',header= None,names=['abstract'])\n",
        "\n",
        "Training_dataframe[['Sentiment','abstract']] = Training_dataframe[\"abstract\"].str.split(\" \", 1, expand=True)\n",
        "Testing_dataframe[['Sentiment','astract']] = Testing_dataframe[\"abstract\"].str.split(\" \", 1, expand=True)\n",
        "\n"
      ]
    },
    {
      "cell_type": "code",
      "source": [
        "print(Training_dataframe.head())"
      ],
      "metadata": {
        "colab": {
          "base_uri": "https://localhost:8080/"
        },
        "id": "UNfq8jrd_y_L",
        "outputId": "adc05c82-d20f-4b78-b5cd-a7b5cdfd1582"
      },
      "execution_count": 99,
      "outputs": [
        {
          "output_type": "stream",
          "name": "stdout",
          "text": [
            "                                            abstract Sentiment\n",
            "0  a stirring , funny and finally transporting re...         1\n",
            "1  apparently reassembled from the cutting-room f...         0\n",
            "2  they presume their audience wo n't sit still f...         0\n",
            "3  this is a visually stunning rumination on love...         1\n",
            "4  jonathan parker 's bartleby should have been t...         1\n"
          ]
        }
      ]
    },
    {
      "cell_type": "code",
      "source": [
        "print(Testing_dataframe.head())"
      ],
      "metadata": {
        "colab": {
          "base_uri": "https://localhost:8080/"
        },
        "id": "Js36pXQd_160",
        "outputId": "bd38b647-b68f-49d5-bab9-d208573ace48"
      },
      "execution_count": 100,
      "outputs": [
        {
          "output_type": "stream",
          "name": "stdout",
          "text": [
            "                                            abstract Sentiment  \\\n",
            "0   0 no movement , no yuks , not much of anything .         0   \n",
            "1  0 a gob of drivel so sickly sweet , even the e...         0   \n",
            "2  0 gangs of new york is an unapologetic mess , ...         0   \n",
            "3  0 we never really feel involved with the story...         0   \n",
            "4          1 this is one of polanski 's best films .         1   \n",
            "\n",
            "                                             astract  \n",
            "0     no movement , no yuks , not much of anything .  \n",
            "1  a gob of drivel so sickly sweet , even the eag...  \n",
            "2  gangs of new york is an unapologetic mess , wh...  \n",
            "3  we never really feel involved with the story ,...  \n",
            "4            this is one of polanski 's best films .  \n"
          ]
        }
      ]
    },
    {
      "cell_type": "code",
      "source": [
        "import nltk\n",
        "import re\n",
        "import string\n",
        "nltk.download('stopwords')\n",
        "nltk.download('wordnet')\n",
        "nltk.download('omw-1.4')\n",
        "stop_words = nltk.corpus.stopwords.words('english')\n",
        "from nltk.stem import WordNetLemmatizer\n",
        "word_lem= WordNetLemmatizer()\n",
        "\n",
        "def cleaneddata(train_data):\n",
        "  train_data =\"\".join([words.lower() for words in train_data if words not in string.punctuation])\n",
        "  train_data = re.sub(\"^\\d+\\s|\\s\\d+\\s|\\s\\d+$\", \" \", train_data)\n",
        "  phrases = re.split('\\W+',train_data)\n",
        "  train_data = [word_lem.lemmatize(words) for words in phrases if words not in stop_words]\n",
        "  return train_data"
      ],
      "metadata": {
        "colab": {
          "base_uri": "https://localhost:8080/"
        },
        "id": "JRhPdtj9ADIX",
        "outputId": "5051e415-613b-409b-ee9d-127c75436e78"
      },
      "execution_count": 101,
      "outputs": [
        {
          "output_type": "stream",
          "name": "stderr",
          "text": [
            "[nltk_data] Downloading package stopwords to /root/nltk_data...\n",
            "[nltk_data]   Package stopwords is already up-to-date!\n",
            "[nltk_data] Downloading package wordnet to /root/nltk_data...\n",
            "[nltk_data]   Package wordnet is already up-to-date!\n",
            "[nltk_data] Downloading package omw-1.4 to /root/nltk_data...\n",
            "[nltk_data]   Package omw-1.4 is already up-to-date!\n"
          ]
        }
      ]
    },
    {
      "cell_type": "code",
      "source": [
        "from sklearn.feature_extraction.text import TfidfVectorizer\n",
        "\n",
        "tf = TfidfVectorizer(analyzer = cleaneddata)\n",
        "tf_idf = tf.fit_transform(Training_dataframe['abstract'])\n",
        "tf_idf.shape"
      ],
      "metadata": {
        "colab": {
          "base_uri": "https://localhost:8080/"
        },
        "id": "UuukN-77AJ9C",
        "outputId": "9bb055de-7983-407b-a9b3-f06286d73c1a"
      },
      "execution_count": 102,
      "outputs": [
        {
          "output_type": "execute_result",
          "data": {
            "text/plain": [
              "(6920, 13343)"
            ]
          },
          "metadata": {},
          "execution_count": 102
        }
      ]
    },
    {
      "cell_type": "code",
      "source": [
        "tf_idf_dataframe = pd.DataFrame(tf_idf.toarray())\n",
        "tf_idf_dataframe.columns=tf.get_feature_names()\n",
        "tf_idf_dataframe.head()"
      ],
      "metadata": {
        "colab": {
          "base_uri": "https://localhost:8080/",
          "height": 334
        },
        "id": "AdDgZP_gAoiw",
        "outputId": "10a9561e-79f2-42c9-a0fe-cd7e3785ed55"
      },
      "execution_count": 103,
      "outputs": [
        {
          "output_type": "stream",
          "name": "stderr",
          "text": [
            "/usr/local/lib/python3.7/dist-packages/sklearn/utils/deprecation.py:87: FutureWarning: Function get_feature_names is deprecated; get_feature_names is deprecated in 1.0 and will be removed in 1.2. Please use get_feature_names_out instead.\n",
            "  warnings.warn(msg, category=FutureWarning)\n"
          ]
        },
        {
          "output_type": "execute_result",
          "data": {
            "text/plain": [
              "             100minute  103minute  10course  10th  10thgrade  10year  \\\n",
              "0  0.000000        0.0        0.0       0.0   0.0        0.0     0.0   \n",
              "1  0.048154        0.0        0.0       0.0   0.0        0.0     0.0   \n",
              "2  0.029784        0.0        0.0       0.0   0.0        0.0     0.0   \n",
              "3  0.049596        0.0        0.0       0.0   0.0        0.0     0.0   \n",
              "4  0.048782        0.0        0.0       0.0   0.0        0.0     0.0   \n",
              "\n",
              "   10yearold  112minute   12  ...  ziyi  zoe  zombie  zombieland  zone  \\\n",
              "0        0.0        0.0  0.0  ...   0.0  0.0     0.0         0.0   0.0   \n",
              "1        0.0        0.0  0.0  ...   0.0  0.0     0.0         0.0   0.0   \n",
              "2        0.0        0.0  0.0  ...   0.0  0.0     0.0         0.0   0.0   \n",
              "3        0.0        0.0  0.0  ...   0.0  0.0     0.0         0.0   0.0   \n",
              "4        0.0        0.0  0.0  ...   0.0  0.0     0.0         0.0   0.0   \n",
              "\n",
              "   zoning  zoom  zwick  zzzzzzzzz  élan  \n",
              "0     0.0   0.0    0.0        0.0   0.0  \n",
              "1     0.0   0.0    0.0        0.0   0.0  \n",
              "2     0.0   0.0    0.0        0.0   0.0  \n",
              "3     0.0   0.0    0.0        0.0   0.0  \n",
              "4     0.0   0.0    0.0        0.0   0.0  \n",
              "\n",
              "[5 rows x 13343 columns]"
            ],
            "text/html": [
              "\n",
              "  <div id=\"df-9f7bc42b-65e5-42f0-aa6c-3f7e72922706\">\n",
              "    <div class=\"colab-df-container\">\n",
              "      <div>\n",
              "<style scoped>\n",
              "    .dataframe tbody tr th:only-of-type {\n",
              "        vertical-align: middle;\n",
              "    }\n",
              "\n",
              "    .dataframe tbody tr th {\n",
              "        vertical-align: top;\n",
              "    }\n",
              "\n",
              "    .dataframe thead th {\n",
              "        text-align: right;\n",
              "    }\n",
              "</style>\n",
              "<table border=\"1\" class=\"dataframe\">\n",
              "  <thead>\n",
              "    <tr style=\"text-align: right;\">\n",
              "      <th></th>\n",
              "      <th></th>\n",
              "      <th>100minute</th>\n",
              "      <th>103minute</th>\n",
              "      <th>10course</th>\n",
              "      <th>10th</th>\n",
              "      <th>10thgrade</th>\n",
              "      <th>10year</th>\n",
              "      <th>10yearold</th>\n",
              "      <th>112minute</th>\n",
              "      <th>12</th>\n",
              "      <th>...</th>\n",
              "      <th>ziyi</th>\n",
              "      <th>zoe</th>\n",
              "      <th>zombie</th>\n",
              "      <th>zombieland</th>\n",
              "      <th>zone</th>\n",
              "      <th>zoning</th>\n",
              "      <th>zoom</th>\n",
              "      <th>zwick</th>\n",
              "      <th>zzzzzzzzz</th>\n",
              "      <th>élan</th>\n",
              "    </tr>\n",
              "  </thead>\n",
              "  <tbody>\n",
              "    <tr>\n",
              "      <th>0</th>\n",
              "      <td>0.000000</td>\n",
              "      <td>0.0</td>\n",
              "      <td>0.0</td>\n",
              "      <td>0.0</td>\n",
              "      <td>0.0</td>\n",
              "      <td>0.0</td>\n",
              "      <td>0.0</td>\n",
              "      <td>0.0</td>\n",
              "      <td>0.0</td>\n",
              "      <td>0.0</td>\n",
              "      <td>...</td>\n",
              "      <td>0.0</td>\n",
              "      <td>0.0</td>\n",
              "      <td>0.0</td>\n",
              "      <td>0.0</td>\n",
              "      <td>0.0</td>\n",
              "      <td>0.0</td>\n",
              "      <td>0.0</td>\n",
              "      <td>0.0</td>\n",
              "      <td>0.0</td>\n",
              "      <td>0.0</td>\n",
              "    </tr>\n",
              "    <tr>\n",
              "      <th>1</th>\n",
              "      <td>0.048154</td>\n",
              "      <td>0.0</td>\n",
              "      <td>0.0</td>\n",
              "      <td>0.0</td>\n",
              "      <td>0.0</td>\n",
              "      <td>0.0</td>\n",
              "      <td>0.0</td>\n",
              "      <td>0.0</td>\n",
              "      <td>0.0</td>\n",
              "      <td>0.0</td>\n",
              "      <td>...</td>\n",
              "      <td>0.0</td>\n",
              "      <td>0.0</td>\n",
              "      <td>0.0</td>\n",
              "      <td>0.0</td>\n",
              "      <td>0.0</td>\n",
              "      <td>0.0</td>\n",
              "      <td>0.0</td>\n",
              "      <td>0.0</td>\n",
              "      <td>0.0</td>\n",
              "      <td>0.0</td>\n",
              "    </tr>\n",
              "    <tr>\n",
              "      <th>2</th>\n",
              "      <td>0.029784</td>\n",
              "      <td>0.0</td>\n",
              "      <td>0.0</td>\n",
              "      <td>0.0</td>\n",
              "      <td>0.0</td>\n",
              "      <td>0.0</td>\n",
              "      <td>0.0</td>\n",
              "      <td>0.0</td>\n",
              "      <td>0.0</td>\n",
              "      <td>0.0</td>\n",
              "      <td>...</td>\n",
              "      <td>0.0</td>\n",
              "      <td>0.0</td>\n",
              "      <td>0.0</td>\n",
              "      <td>0.0</td>\n",
              "      <td>0.0</td>\n",
              "      <td>0.0</td>\n",
              "      <td>0.0</td>\n",
              "      <td>0.0</td>\n",
              "      <td>0.0</td>\n",
              "      <td>0.0</td>\n",
              "    </tr>\n",
              "    <tr>\n",
              "      <th>3</th>\n",
              "      <td>0.049596</td>\n",
              "      <td>0.0</td>\n",
              "      <td>0.0</td>\n",
              "      <td>0.0</td>\n",
              "      <td>0.0</td>\n",
              "      <td>0.0</td>\n",
              "      <td>0.0</td>\n",
              "      <td>0.0</td>\n",
              "      <td>0.0</td>\n",
              "      <td>0.0</td>\n",
              "      <td>...</td>\n",
              "      <td>0.0</td>\n",
              "      <td>0.0</td>\n",
              "      <td>0.0</td>\n",
              "      <td>0.0</td>\n",
              "      <td>0.0</td>\n",
              "      <td>0.0</td>\n",
              "      <td>0.0</td>\n",
              "      <td>0.0</td>\n",
              "      <td>0.0</td>\n",
              "      <td>0.0</td>\n",
              "    </tr>\n",
              "    <tr>\n",
              "      <th>4</th>\n",
              "      <td>0.048782</td>\n",
              "      <td>0.0</td>\n",
              "      <td>0.0</td>\n",
              "      <td>0.0</td>\n",
              "      <td>0.0</td>\n",
              "      <td>0.0</td>\n",
              "      <td>0.0</td>\n",
              "      <td>0.0</td>\n",
              "      <td>0.0</td>\n",
              "      <td>0.0</td>\n",
              "      <td>...</td>\n",
              "      <td>0.0</td>\n",
              "      <td>0.0</td>\n",
              "      <td>0.0</td>\n",
              "      <td>0.0</td>\n",
              "      <td>0.0</td>\n",
              "      <td>0.0</td>\n",
              "      <td>0.0</td>\n",
              "      <td>0.0</td>\n",
              "      <td>0.0</td>\n",
              "      <td>0.0</td>\n",
              "    </tr>\n",
              "  </tbody>\n",
              "</table>\n",
              "<p>5 rows × 13343 columns</p>\n",
              "</div>\n",
              "      <button class=\"colab-df-convert\" onclick=\"convertToInteractive('df-9f7bc42b-65e5-42f0-aa6c-3f7e72922706')\"\n",
              "              title=\"Convert this dataframe to an interactive table.\"\n",
              "              style=\"display:none;\">\n",
              "        \n",
              "  <svg xmlns=\"http://www.w3.org/2000/svg\" height=\"24px\"viewBox=\"0 0 24 24\"\n",
              "       width=\"24px\">\n",
              "    <path d=\"M0 0h24v24H0V0z\" fill=\"none\"/>\n",
              "    <path d=\"M18.56 5.44l.94 2.06.94-2.06 2.06-.94-2.06-.94-.94-2.06-.94 2.06-2.06.94zm-11 1L8.5 8.5l.94-2.06 2.06-.94-2.06-.94L8.5 2.5l-.94 2.06-2.06.94zm10 10l.94 2.06.94-2.06 2.06-.94-2.06-.94-.94-2.06-.94 2.06-2.06.94z\"/><path d=\"M17.41 7.96l-1.37-1.37c-.4-.4-.92-.59-1.43-.59-.52 0-1.04.2-1.43.59L10.3 9.45l-7.72 7.72c-.78.78-.78 2.05 0 2.83L4 21.41c.39.39.9.59 1.41.59.51 0 1.02-.2 1.41-.59l7.78-7.78 2.81-2.81c.8-.78.8-2.07 0-2.86zM5.41 20L4 18.59l7.72-7.72 1.47 1.35L5.41 20z\"/>\n",
              "  </svg>\n",
              "      </button>\n",
              "      \n",
              "  <style>\n",
              "    .colab-df-container {\n",
              "      display:flex;\n",
              "      flex-wrap:wrap;\n",
              "      gap: 12px;\n",
              "    }\n",
              "\n",
              "    .colab-df-convert {\n",
              "      background-color: #E8F0FE;\n",
              "      border: none;\n",
              "      border-radius: 50%;\n",
              "      cursor: pointer;\n",
              "      display: none;\n",
              "      fill: #1967D2;\n",
              "      height: 32px;\n",
              "      padding: 0 0 0 0;\n",
              "      width: 32px;\n",
              "    }\n",
              "\n",
              "    .colab-df-convert:hover {\n",
              "      background-color: #E2EBFA;\n",
              "      box-shadow: 0px 1px 2px rgba(60, 64, 67, 0.3), 0px 1px 3px 1px rgba(60, 64, 67, 0.15);\n",
              "      fill: #174EA6;\n",
              "    }\n",
              "\n",
              "    [theme=dark] .colab-df-convert {\n",
              "      background-color: #3B4455;\n",
              "      fill: #D2E3FC;\n",
              "    }\n",
              "\n",
              "    [theme=dark] .colab-df-convert:hover {\n",
              "      background-color: #434B5C;\n",
              "      box-shadow: 0px 1px 3px 1px rgba(0, 0, 0, 0.15);\n",
              "      filter: drop-shadow(0px 1px 2px rgba(0, 0, 0, 0.3));\n",
              "      fill: #FFFFFF;\n",
              "    }\n",
              "  </style>\n",
              "\n",
              "      <script>\n",
              "        const buttonEl =\n",
              "          document.querySelector('#df-9f7bc42b-65e5-42f0-aa6c-3f7e72922706 button.colab-df-convert');\n",
              "        buttonEl.style.display =\n",
              "          google.colab.kernel.accessAllowed ? 'block' : 'none';\n",
              "\n",
              "        async function convertToInteractive(key) {\n",
              "          const element = document.querySelector('#df-9f7bc42b-65e5-42f0-aa6c-3f7e72922706');\n",
              "          const dataTable =\n",
              "            await google.colab.kernel.invokeFunction('convertToInteractive',\n",
              "                                                     [key], {});\n",
              "          if (!dataTable) return;\n",
              "\n",
              "          const docLinkHtml = 'Like what you see? Visit the ' +\n",
              "            '<a target=\"_blank\" href=https://colab.research.google.com/notebooks/data_table.ipynb>data table notebook</a>'\n",
              "            + ' to learn more about interactive tables.';\n",
              "          element.innerHTML = '';\n",
              "          dataTable['output_type'] = 'display_data';\n",
              "          await google.colab.output.renderOutput(dataTable, element);\n",
              "          const docLink = document.createElement('div');\n",
              "          docLink.innerHTML = docLinkHtml;\n",
              "          element.appendChild(docLink);\n",
              "        }\n",
              "      </script>\n",
              "    </div>\n",
              "  </div>\n",
              "  "
            ]
          },
          "metadata": {},
          "execution_count": 103
        }
      ]
    },
    {
      "cell_type": "code",
      "source": [
        "Test_tf_idf = tf.transform(Testing_dataframe['abstract'])\n",
        "print(Test_tf_idf.shape)"
      ],
      "metadata": {
        "colab": {
          "base_uri": "https://localhost:8080/"
        },
        "id": "MgnZ5txKAs1z",
        "outputId": "0b311ba9-6b65-469c-c569-8508b530bc73"
      },
      "execution_count": 104,
      "outputs": [
        {
          "output_type": "stream",
          "name": "stdout",
          "text": [
            "(1821, 13343)\n"
          ]
        }
      ]
    },
    {
      "cell_type": "code",
      "source": [
        "MNB_algo = MultinomialNB()\n",
        "SVM_algo = LinearSVC()\n",
        "KNN_algo = KNeighborsClassifier(n_neighbors=5,n_jobs=-1)\n",
        "DT_algo = DecisionTreeClassifier()\n",
        "RF_algo = RandomForestClassifier()\n",
        "XGB_algo = XGBClassifier()"
      ],
      "metadata": {
        "id": "07vdFyOhBSbv"
      },
      "execution_count": 105,
      "outputs": []
    },
    {
      "cell_type": "code",
      "source": [
        "train1, test1, train2, test2 = train_test_split(tf_idf, Training_dataframe['Sentiment'].values,\n",
        "                                                test_size=0.2, random_state=42)"
      ],
      "metadata": {
        "id": "cBDdEUjuBdqj"
      },
      "execution_count": 106,
      "outputs": []
    },
    {
      "cell_type": "code",
      "source": [
        "MNB_fit = MNB_algo.fit(train1,train2)"
      ],
      "metadata": {
        "id": "M1wFOATbBi-Q"
      },
      "execution_count": 107,
      "outputs": []
    },
    {
      "cell_type": "code",
      "source": [
        "from sklearn.metrics import accuracy_score\n",
        "from sklearn.metrics import classification_report\n",
        "final_MNB = MNB_fit.predict(test1)\n",
        "print('Accuracy_result %s' % accuracy_score(final_MNB,test2))\n",
        "print(classification_report(test2,final_MNB))"
      ],
      "metadata": {
        "colab": {
          "base_uri": "https://localhost:8080/"
        },
        "id": "pE4zFe35BmbX",
        "outputId": "e72dd43e-0552-48f5-acd6-e8bbe3f71a4c"
      },
      "execution_count": 108,
      "outputs": [
        {
          "output_type": "stream",
          "name": "stdout",
          "text": [
            "Accuracy_result 0.7955202312138728\n",
            "              precision    recall  f1-score   support\n",
            "\n",
            "           0       0.85      0.70      0.77       671\n",
            "           1       0.76      0.88      0.82       713\n",
            "\n",
            "    accuracy                           0.80      1384\n",
            "   macro avg       0.80      0.79      0.79      1384\n",
            "weighted avg       0.80      0.80      0.79      1384\n",
            "\n"
          ]
        }
      ]
    },
    {
      "cell_type": "code",
      "source": [
        "from sklearn.model_selection import cross_val_score\n",
        "res = cross_val_score(MNB_algo, test1, test2, cv=10)\n",
        "print(\"MNB_given\",res.mean())"
      ],
      "metadata": {
        "colab": {
          "base_uri": "https://localhost:8080/"
        },
        "id": "uX_mskigBrmM",
        "outputId": "87a74c42-6c7a-4ceb-891d-a6a91695e181"
      },
      "execution_count": 109,
      "outputs": [
        {
          "output_type": "stream",
          "name": "stdout",
          "text": [
            "MNB_given 0.7247054530288813\n"
          ]
        }
      ]
    },
    {
      "cell_type": "code",
      "source": [
        "SVM_fit = SVM_algo.fit(train1,train2)\n",
        "final_SVM = SVM_fit.predict(test1)\n",
        "print('Accuracy_result %s' % accuracy_score(final_SVM,test2))\n",
        "print(classification_report(test2,final_SVM))"
      ],
      "metadata": {
        "colab": {
          "base_uri": "https://localhost:8080/"
        },
        "id": "zT2VkVLnCDN_",
        "outputId": "9eb1868b-fba2-450c-d401-c6f2a0205cc4"
      },
      "execution_count": 110,
      "outputs": [
        {
          "output_type": "stream",
          "name": "stdout",
          "text": [
            "Accuracy_result 0.791907514450867\n",
            "              precision    recall  f1-score   support\n",
            "\n",
            "           0       0.81      0.75      0.78       671\n",
            "           1       0.78      0.83      0.80       713\n",
            "\n",
            "    accuracy                           0.79      1384\n",
            "   macro avg       0.79      0.79      0.79      1384\n",
            "weighted avg       0.79      0.79      0.79      1384\n",
            "\n"
          ]
        }
      ]
    },
    {
      "cell_type": "code",
      "source": [
        "DT_fit = DT_algo.fit(train1,train2)\n",
        "FinalDT = DT_fit.predict(test1)\n",
        "print('Accuracy_result %s' % accuracy_score(FinalDT,test2))\n",
        "print(classification_report(test2,FinalDT))"
      ],
      "metadata": {
        "colab": {
          "base_uri": "https://localhost:8080/"
        },
        "id": "NVSBRFYnAvxv",
        "outputId": "75d93fd5-0c1a-4731-f311-683566948da7"
      },
      "execution_count": 111,
      "outputs": [
        {
          "output_type": "stream",
          "name": "stdout",
          "text": [
            "Accuracy_result 0.6625722543352601\n",
            "              precision    recall  f1-score   support\n",
            "\n",
            "           0       0.67      0.61      0.64       671\n",
            "           1       0.66      0.71      0.69       713\n",
            "\n",
            "    accuracy                           0.66      1384\n",
            "   macro avg       0.66      0.66      0.66      1384\n",
            "weighted avg       0.66      0.66      0.66      1384\n",
            "\n"
          ]
        }
      ]
    },
    {
      "cell_type": "code",
      "source": [
        "from sklearn.model_selection import cross_val_score\n",
        "res = cross_val_score(SVM_algo, test1, test2, cv=10)\n",
        "print(\"SVM_given\",res.mean())"
      ],
      "metadata": {
        "colab": {
          "base_uri": "https://localhost:8080/"
        },
        "id": "1hkX1bonCNhJ",
        "outputId": "94ff191e-0804-458c-f383-d9695ed0f1ef"
      },
      "execution_count": 112,
      "outputs": [
        {
          "output_type": "stream",
          "name": "stdout",
          "text": [
            "SVM_given 0.7348034615785632\n"
          ]
        }
      ]
    },
    {
      "cell_type": "code",
      "source": [
        "KNN_fit = KNN_algo.fit(train1,train2)\n",
        "final_KNN = KNN_fit.predict(test1)\n",
        "print('Accuracy_result %s' % accuracy_score(final_KNN,test2))\n",
        "print(classification_report(test2,final_KNN))"
      ],
      "metadata": {
        "colab": {
          "base_uri": "https://localhost:8080/"
        },
        "id": "wAnUsZekCR6H",
        "outputId": "6353e582-cc52-4db3-8714-80a7f0c0e46f"
      },
      "execution_count": 66,
      "outputs": [
        {
          "output_type": "stream",
          "name": "stdout",
          "text": [
            "Accuracy_result 0.740606936416185\n",
            "              precision    recall  f1-score   support\n",
            "\n",
            "           0       0.75      0.71      0.73       671\n",
            "           1       0.74      0.77      0.75       713\n",
            "\n",
            "    accuracy                           0.74      1384\n",
            "   macro avg       0.74      0.74      0.74      1384\n",
            "weighted avg       0.74      0.74      0.74      1384\n",
            "\n"
          ]
        }
      ]
    },
    {
      "cell_type": "code",
      "source": [
        "from sklearn.model_selection import cross_val_score\n",
        "res = cross_val_score(KNN_algo, test1, test2, cv=10)\n",
        "print(\"KNN_given\",res.mean())"
      ],
      "metadata": {
        "colab": {
          "base_uri": "https://localhost:8080/"
        },
        "id": "V66KrS9LCSCX",
        "outputId": "53c1c4ff-c290-452c-efbb-8b5424febfae"
      },
      "execution_count": 67,
      "outputs": [
        {
          "output_type": "stream",
          "name": "stdout",
          "text": [
            "KNN_given 0.6675737670732979\n"
          ]
        }
      ]
    },
    {
      "cell_type": "code",
      "source": [
        "XGB_fit = XGB_algo.fit(train1,train2)\n",
        "final_XGB = XGB_fit.predict(test1)\n",
        "res = cross_val_score(XGB_algo, test1, test2, cv=10)\n",
        "print('Accuracy_result %s' % accuracy_score(final_XGB,test2))\n",
        "print(classification_report(test2,final_XGB))\n",
        "print(\"XGB_given\",res.mean())"
      ],
      "metadata": {
        "colab": {
          "base_uri": "https://localhost:8080/"
        },
        "id": "-p1JrUDWCYMn",
        "outputId": "ba76e792-1a56-4f40-db19-88069b5a79bd"
      },
      "execution_count": 68,
      "outputs": [
        {
          "output_type": "stream",
          "name": "stdout",
          "text": [
            "Accuracy_result 0.6488439306358381\n",
            "              precision    recall  f1-score   support\n",
            "\n",
            "           0       0.76      0.41      0.53       671\n",
            "           1       0.61      0.88      0.72       713\n",
            "\n",
            "    accuracy                           0.65      1384\n",
            "   macro avg       0.68      0.64      0.62      1384\n",
            "weighted avg       0.68      0.65      0.63      1384\n",
            "\n",
            "XGB_given 0.6198884370764259\n"
          ]
        }
      ]
    },
    {
      "cell_type": "code",
      "source": [
        "res = cross_val_score(DT, test1, test2, cv=10)\n",
        "print(\"DT_given\",res.mean())"
      ],
      "metadata": {
        "colab": {
          "base_uri": "https://localhost:8080/"
        },
        "id": "V0RorWXPCcdi",
        "outputId": "ea438b4a-7322-46fd-8068-ac866f6e9173"
      },
      "execution_count": 69,
      "outputs": [
        {
          "output_type": "stream",
          "name": "stdout",
          "text": [
            "DT_given 0.601824627254718\n"
          ]
        }
      ]
    },
    {
      "cell_type": "code",
      "source": [
        "RF_fit = RF_algo.fit(train1,train2)\n",
        "final_RF = RF_fit.predict(test1)\n",
        "res = cross_val_score(RF_algo, test1, test2, cv=10)\n",
        "print('Acc_result %s' % accuracy_score(final_RF,test2))\n",
        "print(classification_report(test2,final_RF))\n",
        "print(\"RF_given\",res.mean())"
      ],
      "metadata": {
        "colab": {
          "base_uri": "https://localhost:8080/"
        },
        "id": "PDjtuRjyCha9",
        "outputId": "9043228d-2324-4ee1-fb56-fa5c0590920a"
      },
      "execution_count": 70,
      "outputs": [
        {
          "output_type": "stream",
          "name": "stdout",
          "text": [
            "Acc_result 0.7398843930635838\n",
            "              precision    recall  f1-score   support\n",
            "\n",
            "           0       0.77      0.66      0.71       671\n",
            "           1       0.72      0.81      0.76       713\n",
            "\n",
            "    accuracy                           0.74      1384\n",
            "   macro avg       0.74      0.74      0.74      1384\n",
            "weighted avg       0.74      0.74      0.74      1384\n",
            "\n",
            "RF_given 0.6747784381190699\n"
          ]
        }
      ]
    },
    {
      "cell_type": "code",
      "source": [
        "Testing_MNB_algo = MNB_fit.predict(Test_tf_idf)\n",
        "print('Accuracy_result %s' % accuracy_score(Testing_MNB_algo,Testing_dataframe['Sentiment']))\n",
        "print(classification_report(Testing_MNB_algo,Testing_dataframe['Sentiment']))\n"
      ],
      "metadata": {
        "colab": {
          "base_uri": "https://localhost:8080/"
        },
        "id": "r2R_bl1-Crli",
        "outputId": "516623da-2836-48a8-cd34-5c4bc56199c0"
      },
      "execution_count": 71,
      "outputs": [
        {
          "output_type": "stream",
          "name": "stdout",
          "text": [
            "Accuracy_result 0.7940691927512356\n",
            "              precision    recall  f1-score   support\n",
            "\n",
            "           0       0.69      0.87      0.77       729\n",
            "           1       0.89      0.74      0.81      1092\n",
            "\n",
            "    accuracy                           0.79      1821\n",
            "   macro avg       0.79      0.81      0.79      1821\n",
            "weighted avg       0.81      0.79      0.80      1821\n",
            "\n"
          ]
        }
      ]
    },
    {
      "cell_type": "code",
      "source": [
        "Testing_SVM_algo = SVM_fit.predict(Test_tf_idf)\n",
        "print('Accuracy_result %s' % accuracy_score(Testing_SVM_algo,Testing_dataframe['Sentiment']))\n",
        "print(classification_report(Testing_SVM_algo,Testing_dataframe['Sentiment']))"
      ],
      "metadata": {
        "colab": {
          "base_uri": "https://localhost:8080/"
        },
        "id": "NGV7ZTKLCyOe",
        "outputId": "b5b0c681-bb45-416b-892f-b2b8272d59f8"
      },
      "execution_count": 72,
      "outputs": [
        {
          "output_type": "stream",
          "name": "stdout",
          "text": [
            "Accuracy_result 0.7869302580999451\n",
            "              precision    recall  f1-score   support\n",
            "\n",
            "           0       0.75      0.81      0.78       838\n",
            "           1       0.83      0.77      0.79       983\n",
            "\n",
            "    accuracy                           0.79      1821\n",
            "   macro avg       0.79      0.79      0.79      1821\n",
            "weighted avg       0.79      0.79      0.79      1821\n",
            "\n"
          ]
        }
      ]
    },
    {
      "cell_type": "markdown",
      "metadata": {
        "id": "EZzwUnrn9uEN"
      },
      "source": [
        "(20 points) The purpose of the question is to practice different machine learning algorithms for text clustering\n",
        "Please downlad the dataset by using the following link.  https://www.kaggle.com/PromptCloudHQ/amazon-reviews-unlocked-mobile-phones\n",
        "(You can also use different text data which you want)\n",
        "\n",
        "Apply the listed clustering methods to the dataset:\n",
        "\n",
        "K means, \n",
        "DBSCAN,\n",
        "Hierarchical clustering. \n",
        "\n",
        "You can refer to of the codes from  the follwing link below. \n",
        "https://www.kaggle.com/karthik3890/text-clustering "
      ]
    },
    {
      "cell_type": "code",
      "execution_count": 73,
      "metadata": {
        "colab": {
          "base_uri": "https://localhost:8080/"
        },
        "id": "vfX-q54a9uEO",
        "outputId": "9039e6c4-ac92-443e-f99f-bf48e3646d36"
      },
      "outputs": [
        {
          "output_type": "stream",
          "name": "stderr",
          "text": [
            "[nltk_data] Downloading package punkt to /root/nltk_data...\n",
            "[nltk_data]   Package punkt is already up-to-date!\n",
            "[nltk_data] Downloading package stopwords to /root/nltk_data...\n",
            "[nltk_data]   Package stopwords is already up-to-date!\n",
            "[nltk_data] Downloading package wordnet to /root/nltk_data...\n",
            "[nltk_data]   Package wordnet is already up-to-date!\n",
            "/usr/local/lib/python3.7/dist-packages/ipykernel_launcher.py:15: FutureWarning: The default value of regex will change from True to False in a future version.\n",
            "  from ipykernel import kernelapp as app\n",
            "/usr/local/lib/python3.7/dist-packages/ipykernel_launcher.py:17: FutureWarning: The default value of regex will change from True to False in a future version.\n"
          ]
        }
      ],
      "source": [
        "import pandas as pd\n",
        "import gensim\n",
        "Df=pd.read_csv(\"/content/Amazon_Unlocked_Mobile.csv\")\n",
        "import nltk\n",
        "nltk.download('punkt')\n",
        "from nltk.corpus import stopwords\n",
        "nltk.download('stopwords')\n",
        "from textblob import Word\n",
        "nltk.download('wordnet')\n",
        "from nltk.stem import PorterStemmer\n",
        "stemmer = PorterStemmer()\n",
        "Df = Df[Df['Reviews'].notnull()]\n",
        "dataframe = Df\n",
        "stop = stopwords.words('english')\n",
        "Df['puncless'] = Df['Reviews'].str.replace('[^\\w\\s].#','')\n",
        "Df['mstopwords'] =Df['puncless'].apply(lambda i: \" \".join(i for i in i.split() if i not in stop))\n",
        "Df['numbers']=Df['mstopwords'].str.replace('[0-9]','')\n",
        "Df['lowest'] =Df['numbers'].apply(lambda i: \" \".join(i.lower() for i in i.split()))\n",
        "\n",
        "Df['stemming']=Df['lowest'].apply(lambda i: \" \".join([stemmer.stem(word) for word in i.split()]))\n",
        "Df['freshdata'] = Df['stemming'].apply(lambda i: \" \".join([Word(word).lemmatize() for word in i.split()]))\n",
        "\n",
        "\n",
        "\n"
      ]
    },
    {
      "cell_type": "code",
      "source": [
        "print(Df['freshdata'].head())"
      ],
      "metadata": {
        "colab": {
          "base_uri": "https://localhost:8080/"
        },
        "id": "MmtOYCamDwYE",
        "outputId": "4046b0ae-a81e-40ca-d63f-7f1c486e9a61"
      },
      "execution_count": 74,
      "outputs": [
        {
          "output_type": "stream",
          "name": "stdout",
          "text": [
            "0    i feel lucki found use (phone u & use hard all...\n",
            "1    nice phone, nice grade pantach revue. veri cle...\n",
            "2                                            veri plea\n",
            "3      it work good goe slow sometim good phone i love\n",
            "4    great phone replac lost phone. the thing volum...\n",
            "Name: freshdata, dtype: object\n"
          ]
        }
      ]
    },
    {
      "cell_type": "code",
      "source": [
        "Dataframe1=(dataframe.sample(n=4000)).reset_index()"
      ],
      "metadata": {
        "id": "Ghi8orxRFocb"
      },
      "execution_count": 76,
      "outputs": []
    },
    {
      "cell_type": "code",
      "source": [
        "from sklearn.feature_extraction.text import TfidfVectorizer\n",
        "tf_idf_vec = TfidfVectorizer()\n",
        "tfidf_res = tf_idf_vec.fit_transform(Dataframe1['freshdata'].values)\n",
        "print(tfidf_res.shape)"
      ],
      "metadata": {
        "colab": {
          "base_uri": "https://localhost:8080/"
        },
        "id": "crGtp7b6FtES",
        "outputId": "f3ea3456-c8dd-4054-9483-88b1293dff13"
      },
      "execution_count": 77,
      "outputs": [
        {
          "output_type": "stream",
          "name": "stdout",
          "text": [
            "(4000, 7296)\n"
          ]
        }
      ]
    },
    {
      "cell_type": "code",
      "source": [
        "from sklearn.cluster import KMeans\n",
        "Mtf_idf_kmean = KMeans(n_clusters = 5,random_state=99)\n",
        "Mtf_idf_kmean.fit(tfidf_res)"
      ],
      "metadata": {
        "colab": {
          "base_uri": "https://localhost:8080/"
        },
        "id": "KJZSGBGCFw3v",
        "outputId": "91268cee-7a92-444f-a1a5-887fd434eb6f"
      },
      "execution_count": 78,
      "outputs": [
        {
          "output_type": "execute_result",
          "data": {
            "text/plain": [
              "KMeans(n_clusters=5, random_state=99)"
            ]
          },
          "metadata": {},
          "execution_count": 78
        }
      ]
    },
    {
      "cell_type": "code",
      "source": [
        "tf_idf_labelling = Mtf_idf_kmean.labels_\n",
        "tf_idf_clustering=Mtf_idf_kmean.cluster_centers_"
      ],
      "metadata": {
        "id": "NiqpWp_BGaQQ"
      },
      "execution_count": 79,
      "outputs": []
    },
    {
      "cell_type": "code",
      "source": [
        "vars = tf_idf_vec.get_feature_names()\n",
        "vars[1:5]\n",
        "Dataframe1['tf_idf cluster labelling'] = tf_idf_labelling\n",
        "Dataframe1.head(5)"
      ],
      "metadata": {
        "colab": {
          "base_uri": "https://localhost:8080/",
          "height": 669
        },
        "id": "B1snYdLPGd6a",
        "outputId": "90a87346-a67c-449d-b19b-e4cd4d8d6141"
      },
      "execution_count": 81,
      "outputs": [
        {
          "output_type": "stream",
          "name": "stderr",
          "text": [
            "/usr/local/lib/python3.7/dist-packages/sklearn/utils/deprecation.py:87: FutureWarning: Function get_feature_names is deprecated; get_feature_names is deprecated in 1.0 and will be removed in 1.2. Please use get_feature_names_out instead.\n",
            "  warnings.warn(msg, category=FutureWarning)\n"
          ]
        },
        {
          "output_type": "execute_result",
          "data": {
            "text/plain": [
              "    index                                       Product Name Brand Name  \\\n",
              "0  249804  Motorola KRZR K1 Unlocked Phone with 2 MP Came...   Motorola   \n",
              "1   10719     Apple iPhone 4 A1332 32GB White (GSM Unlocked)      Apple   \n",
              "2  133723  BLU S480U Unlocked Studio 7.0 II Smartphone wi...        BLU   \n",
              "3  394744  Sony Xperia Z3 Compact D5803 16GB 4G LTE 4.6\" ...        NaN   \n",
              "4  353611  Samsung Galaxy S5 Mini G800H Unlocked Cellphon...    Samsung   \n",
              "\n",
              "    Price  Rating                                            Reviews  \\\n",
              "0   82.99       4  Phone showed up a little ahead of time. Worked...   \n",
              "1  138.97       5  I have been using the cell phone for 1 month a...   \n",
              "2     NaN       5  All I have to say is just WOW!!! Everything I ...   \n",
              "3  244.00       5                                   Love this phone!   \n",
              "4  350.00       5                                  Excelent, thanks.   \n",
              "\n",
              "   Review Votes                                           puncless  \\\n",
              "0           1.0  Phone showed up a little ahead of time. Worked...   \n",
              "1           0.0  I have been using the cell phone for 1 month a...   \n",
              "2           NaN  All I have to say is just WOW!!! Everything I ...   \n",
              "3           0.0                                   Love this phone!   \n",
              "4           0.0                                  Excelent, thanks.   \n",
              "\n",
              "                                          mstopwords  \\\n",
              "0  Phone showed little ahead time. Worked great e...   \n",
              "1  I using cell phone 1 month working good, would...   \n",
              "2  All I say WOW!!! Everything I wanted one. Ship...   \n",
              "3                                        Love phone!   \n",
              "4                                  Excelent, thanks.   \n",
              "\n",
              "                                             numbers  \\\n",
              "0  Phone showed little ahead time. Worked great e...   \n",
              "1  I using cell phone  month working good, would ...   \n",
              "2  All I say WOW!!! Everything I wanted one. Ship...   \n",
              "3                                        Love phone!   \n",
              "4                                  Excelent, thanks.   \n",
              "\n",
              "                                              lowest  \\\n",
              "0  phone showed little ahead time. worked great e...   \n",
              "1  i using cell phone month working good, would d...   \n",
              "2  all i say wow!!! everything i wanted one. ship...   \n",
              "3                                        love phone!   \n",
              "4                                  excelent, thanks.   \n",
              "\n",
              "                                            stemming  \\\n",
              "0  phone show littl ahead time. work great except...   \n",
              "1  i use cell phone month work good, would define...   \n",
              "2  all i say wow!!! everyth i want one. ship pret...   \n",
              "3                                        love phone!   \n",
              "4                                  excelent, thanks.   \n",
              "\n",
              "                                           freshdata  tf_idf cluster labelling  \n",
              "0  phone show littl ahead time. work great except...                         2  \n",
              "1  i use cell phone month work good, would define...                         2  \n",
              "2  all i say wow!!! everyth i want one. ship pret...                         2  \n",
              "3                                        love phone!                         4  \n",
              "4                                  excelent, thanks.                         0  "
            ],
            "text/html": [
              "\n",
              "  <div id=\"df-1bf0d51c-d901-4176-a93c-68efda3e4172\">\n",
              "    <div class=\"colab-df-container\">\n",
              "      <div>\n",
              "<style scoped>\n",
              "    .dataframe tbody tr th:only-of-type {\n",
              "        vertical-align: middle;\n",
              "    }\n",
              "\n",
              "    .dataframe tbody tr th {\n",
              "        vertical-align: top;\n",
              "    }\n",
              "\n",
              "    .dataframe thead th {\n",
              "        text-align: right;\n",
              "    }\n",
              "</style>\n",
              "<table border=\"1\" class=\"dataframe\">\n",
              "  <thead>\n",
              "    <tr style=\"text-align: right;\">\n",
              "      <th></th>\n",
              "      <th>index</th>\n",
              "      <th>Product Name</th>\n",
              "      <th>Brand Name</th>\n",
              "      <th>Price</th>\n",
              "      <th>Rating</th>\n",
              "      <th>Reviews</th>\n",
              "      <th>Review Votes</th>\n",
              "      <th>puncless</th>\n",
              "      <th>mstopwords</th>\n",
              "      <th>numbers</th>\n",
              "      <th>lowest</th>\n",
              "      <th>stemming</th>\n",
              "      <th>freshdata</th>\n",
              "      <th>tf_idf cluster labelling</th>\n",
              "    </tr>\n",
              "  </thead>\n",
              "  <tbody>\n",
              "    <tr>\n",
              "      <th>0</th>\n",
              "      <td>249804</td>\n",
              "      <td>Motorola KRZR K1 Unlocked Phone with 2 MP Came...</td>\n",
              "      <td>Motorola</td>\n",
              "      <td>82.99</td>\n",
              "      <td>4</td>\n",
              "      <td>Phone showed up a little ahead of time. Worked...</td>\n",
              "      <td>1.0</td>\n",
              "      <td>Phone showed up a little ahead of time. Worked...</td>\n",
              "      <td>Phone showed little ahead time. Worked great e...</td>\n",
              "      <td>Phone showed little ahead time. Worked great e...</td>\n",
              "      <td>phone showed little ahead time. worked great e...</td>\n",
              "      <td>phone show littl ahead time. work great except...</td>\n",
              "      <td>phone show littl ahead time. work great except...</td>\n",
              "      <td>2</td>\n",
              "    </tr>\n",
              "    <tr>\n",
              "      <th>1</th>\n",
              "      <td>10719</td>\n",
              "      <td>Apple iPhone 4 A1332 32GB White (GSM Unlocked)</td>\n",
              "      <td>Apple</td>\n",
              "      <td>138.97</td>\n",
              "      <td>5</td>\n",
              "      <td>I have been using the cell phone for 1 month a...</td>\n",
              "      <td>0.0</td>\n",
              "      <td>I have been using the cell phone for 1 month a...</td>\n",
              "      <td>I using cell phone 1 month working good, would...</td>\n",
              "      <td>I using cell phone  month working good, would ...</td>\n",
              "      <td>i using cell phone month working good, would d...</td>\n",
              "      <td>i use cell phone month work good, would define...</td>\n",
              "      <td>i use cell phone month work good, would define...</td>\n",
              "      <td>2</td>\n",
              "    </tr>\n",
              "    <tr>\n",
              "      <th>2</th>\n",
              "      <td>133723</td>\n",
              "      <td>BLU S480U Unlocked Studio 7.0 II Smartphone wi...</td>\n",
              "      <td>BLU</td>\n",
              "      <td>NaN</td>\n",
              "      <td>5</td>\n",
              "      <td>All I have to say is just WOW!!! Everything I ...</td>\n",
              "      <td>NaN</td>\n",
              "      <td>All I have to say is just WOW!!! Everything I ...</td>\n",
              "      <td>All I say WOW!!! Everything I wanted one. Ship...</td>\n",
              "      <td>All I say WOW!!! Everything I wanted one. Ship...</td>\n",
              "      <td>all i say wow!!! everything i wanted one. ship...</td>\n",
              "      <td>all i say wow!!! everyth i want one. ship pret...</td>\n",
              "      <td>all i say wow!!! everyth i want one. ship pret...</td>\n",
              "      <td>2</td>\n",
              "    </tr>\n",
              "    <tr>\n",
              "      <th>3</th>\n",
              "      <td>394744</td>\n",
              "      <td>Sony Xperia Z3 Compact D5803 16GB 4G LTE 4.6\" ...</td>\n",
              "      <td>NaN</td>\n",
              "      <td>244.00</td>\n",
              "      <td>5</td>\n",
              "      <td>Love this phone!</td>\n",
              "      <td>0.0</td>\n",
              "      <td>Love this phone!</td>\n",
              "      <td>Love phone!</td>\n",
              "      <td>Love phone!</td>\n",
              "      <td>love phone!</td>\n",
              "      <td>love phone!</td>\n",
              "      <td>love phone!</td>\n",
              "      <td>4</td>\n",
              "    </tr>\n",
              "    <tr>\n",
              "      <th>4</th>\n",
              "      <td>353611</td>\n",
              "      <td>Samsung Galaxy S5 Mini G800H Unlocked Cellphon...</td>\n",
              "      <td>Samsung</td>\n",
              "      <td>350.00</td>\n",
              "      <td>5</td>\n",
              "      <td>Excelent, thanks.</td>\n",
              "      <td>0.0</td>\n",
              "      <td>Excelent, thanks.</td>\n",
              "      <td>Excelent, thanks.</td>\n",
              "      <td>Excelent, thanks.</td>\n",
              "      <td>excelent, thanks.</td>\n",
              "      <td>excelent, thanks.</td>\n",
              "      <td>excelent, thanks.</td>\n",
              "      <td>0</td>\n",
              "    </tr>\n",
              "  </tbody>\n",
              "</table>\n",
              "</div>\n",
              "      <button class=\"colab-df-convert\" onclick=\"convertToInteractive('df-1bf0d51c-d901-4176-a93c-68efda3e4172')\"\n",
              "              title=\"Convert this dataframe to an interactive table.\"\n",
              "              style=\"display:none;\">\n",
              "        \n",
              "  <svg xmlns=\"http://www.w3.org/2000/svg\" height=\"24px\"viewBox=\"0 0 24 24\"\n",
              "       width=\"24px\">\n",
              "    <path d=\"M0 0h24v24H0V0z\" fill=\"none\"/>\n",
              "    <path d=\"M18.56 5.44l.94 2.06.94-2.06 2.06-.94-2.06-.94-.94-2.06-.94 2.06-2.06.94zm-11 1L8.5 8.5l.94-2.06 2.06-.94-2.06-.94L8.5 2.5l-.94 2.06-2.06.94zm10 10l.94 2.06.94-2.06 2.06-.94-2.06-.94-.94-2.06-.94 2.06-2.06.94z\"/><path d=\"M17.41 7.96l-1.37-1.37c-.4-.4-.92-.59-1.43-.59-.52 0-1.04.2-1.43.59L10.3 9.45l-7.72 7.72c-.78.78-.78 2.05 0 2.83L4 21.41c.39.39.9.59 1.41.59.51 0 1.02-.2 1.41-.59l7.78-7.78 2.81-2.81c.8-.78.8-2.07 0-2.86zM5.41 20L4 18.59l7.72-7.72 1.47 1.35L5.41 20z\"/>\n",
              "  </svg>\n",
              "      </button>\n",
              "      \n",
              "  <style>\n",
              "    .colab-df-container {\n",
              "      display:flex;\n",
              "      flex-wrap:wrap;\n",
              "      gap: 12px;\n",
              "    }\n",
              "\n",
              "    .colab-df-convert {\n",
              "      background-color: #E8F0FE;\n",
              "      border: none;\n",
              "      border-radius: 50%;\n",
              "      cursor: pointer;\n",
              "      display: none;\n",
              "      fill: #1967D2;\n",
              "      height: 32px;\n",
              "      padding: 0 0 0 0;\n",
              "      width: 32px;\n",
              "    }\n",
              "\n",
              "    .colab-df-convert:hover {\n",
              "      background-color: #E2EBFA;\n",
              "      box-shadow: 0px 1px 2px rgba(60, 64, 67, 0.3), 0px 1px 3px 1px rgba(60, 64, 67, 0.15);\n",
              "      fill: #174EA6;\n",
              "    }\n",
              "\n",
              "    [theme=dark] .colab-df-convert {\n",
              "      background-color: #3B4455;\n",
              "      fill: #D2E3FC;\n",
              "    }\n",
              "\n",
              "    [theme=dark] .colab-df-convert:hover {\n",
              "      background-color: #434B5C;\n",
              "      box-shadow: 0px 1px 3px 1px rgba(0, 0, 0, 0.15);\n",
              "      filter: drop-shadow(0px 1px 2px rgba(0, 0, 0, 0.3));\n",
              "      fill: #FFFFFF;\n",
              "    }\n",
              "  </style>\n",
              "\n",
              "      <script>\n",
              "        const buttonEl =\n",
              "          document.querySelector('#df-1bf0d51c-d901-4176-a93c-68efda3e4172 button.colab-df-convert');\n",
              "        buttonEl.style.display =\n",
              "          google.colab.kernel.accessAllowed ? 'block' : 'none';\n",
              "\n",
              "        async function convertToInteractive(key) {\n",
              "          const element = document.querySelector('#df-1bf0d51c-d901-4176-a93c-68efda3e4172');\n",
              "          const dataTable =\n",
              "            await google.colab.kernel.invokeFunction('convertToInteractive',\n",
              "                                                     [key], {});\n",
              "          if (!dataTable) return;\n",
              "\n",
              "          const docLinkHtml = 'Like what you see? Visit the ' +\n",
              "            '<a target=\"_blank\" href=https://colab.research.google.com/notebooks/data_table.ipynb>data table notebook</a>'\n",
              "            + ' to learn more about interactive tables.';\n",
              "          element.innerHTML = '';\n",
              "          dataTable['output_type'] = 'display_data';\n",
              "          await google.colab.output.renderOutput(dataTable, element);\n",
              "          const docLink = document.createElement('div');\n",
              "          docLink.innerHTML = docLinkHtml;\n",
              "          element.appendChild(docLink);\n",
              "        }\n",
              "      </script>\n",
              "    </div>\n",
              "  </div>\n",
              "  "
            ]
          },
          "metadata": {},
          "execution_count": 81
        }
      ]
    },
    {
      "cell_type": "code",
      "source": [
        "\n",
        "Dataframe1.groupby(['tf_idf cluster labelling'])['freshdata'].count()"
      ],
      "metadata": {
        "colab": {
          "base_uri": "https://localhost:8080/"
        },
        "id": "K1fgVg5QGk9D",
        "outputId": "f45194de-8aa1-4d93-b036-d6969d1c4b53"
      },
      "execution_count": 82,
      "outputs": [
        {
          "output_type": "execute_result",
          "data": {
            "text/plain": [
              "tf_idf cluster labelling\n",
              "0     209\n",
              "1     240\n",
              "2    3174\n",
              "3     196\n",
              "4     181\n",
              "Name: freshdata, dtype: int64"
            ]
          },
          "metadata": {},
          "execution_count": 82
        }
      ]
    },
    {
      "cell_type": "code",
      "source": [
        "centers = Mtf_idf_kmean.cluster_centers_.argsort()[:, ::-1]\n",
        "for i in range(1,5):\n",
        "    print(\"Cluster No %d:\" % i, end='')\n",
        "    for index in centers[i, :7]:\n",
        "        print(' %s' % vars[index], end='')\n",
        "        print()"
      ],
      "metadata": {
        "colab": {
          "base_uri": "https://localhost:8080/"
        },
        "id": "az13MazvGqtZ",
        "outputId": "5e79958f-0b22-4fd7-8e76-034bdcf11e5d"
      },
      "execution_count": 84,
      "outputs": [
        {
          "output_type": "stream",
          "name": "stdout",
          "text": [
            "Cluster No 1: great\n",
            " phone\n",
            " work\n",
            " product\n",
            " price\n",
            " it\n",
            " thank\n",
            "Cluster No 2: phone\n",
            " it\n",
            " work\n",
            " the\n",
            " good\n",
            " use\n",
            " like\n",
            "Cluster No 3: good\n",
            " veri\n",
            " phone\n",
            " product\n",
            " price\n",
            " thank\n",
            " it\n",
            "Cluster No 4: love\n",
            " phone\n",
            " it\n",
            " great\n",
            " new\n",
            " daughter\n",
            " work\n"
          ]
        }
      ]
    },
    {
      "cell_type": "code",
      "source": [
        "from sklearn.cluster import DBSCAN\n",
        "import numpy as npy\n",
        "import matplotlib.pyplot as plt\n",
        "import gensim\n",
        "i=0\n",
        "list_vals=[]\n",
        "for j in Dataframe1['freshdata'].values:\n",
        "    list_vals.append(j.split())\n",
        "word2vec = gensim.models.Word2Vec(list_vals,size=100, workers=4)\n",
        "import numpy as npy\n",
        "vectrs = [];\n",
        "for j in list_vals:\n",
        "    vectr1 = npy.zeros(100)\n",
        "    c = 0;\n",
        "    for w in j:\n",
        "        try:\n",
        "            vectr2 = word2vec.wv[w]\n",
        "            vectr1 += vectr2\n",
        "            c += 1\n",
        "        except:\n",
        "            pass\n",
        "    vectr1 /= c\n",
        "    vectrs.append(vectr1)\n",
        "vectrs = npy.array(vectrs)\n",
        "vectrs = npy.nan_to_num(vectrs)\n",
        "vectrs.shape"
      ],
      "metadata": {
        "colab": {
          "base_uri": "https://localhost:8080/"
        },
        "id": "ZmubBx8-GxHZ",
        "outputId": "71430024-8f72-400d-aa72-b3757f575d47"
      },
      "execution_count": 87,
      "outputs": [
        {
          "output_type": "stream",
          "name": "stderr",
          "text": [
            "/usr/local/lib/python3.7/dist-packages/ipykernel_launcher.py:22: RuntimeWarning: invalid value encountered in true_divide\n"
          ]
        },
        {
          "output_type": "execute_result",
          "data": {
            "text/plain": [
              "(4000, 100)"
            ]
          },
          "metadata": {},
          "execution_count": 87
        }
      ]
    },
    {
      "cell_type": "code",
      "source": [
        "points = 2 * 100\n",
        "def lower_bound(num, reach): \n",
        "    low, up = 0, len(num) - 1\n",
        "    while low <= up: \n",
        "        count = int(low + (up - low) / 2)\n",
        "        if num[count] >= reach:\n",
        "            up = count - 1\n",
        "        else:\n",
        "            low = count + 1\n",
        "    return low\n",
        "\n",
        "def computing (i, text): \n",
        "    dist_array = []\n",
        "    for data in text:\n",
        "        dist = npy.sum((i - data) **2 ) \n",
        "        if(len(dist_array) == 200 and dist_array[199] > dist): \n",
        "            low = int(lower_bound(dist_array, dist))\n",
        "            if low < 200 and low >= 0 and dist_array[low] > dist:\n",
        "                dist_array[low] = dist\n",
        "        else:\n",
        "            dist_array.append(dist)\n",
        "            dist_array.sort()\n",
        "    \n",
        "    return dist_array[199]"
      ],
      "metadata": {
        "id": "SgJ8SECdG3Fv"
      },
      "execution_count": 91,
      "outputs": []
    },
    {
      "cell_type": "code",
      "source": [
        "neighbours = []\n",
        "for i in vectrs[:500]:\n",
        "    neighbours.append(computing(i, vectrs[:500]) )\n",
        "neighbours.sort()"
      ],
      "metadata": {
        "id": "iGU1biK9G7h-"
      },
      "execution_count": 92,
      "outputs": []
    },
    {
      "cell_type": "code",
      "source": [
        "plt.figure(figsize=(10,3))\n",
        "plt.title(\"Method\")\n",
        "plt.plot([i for i in range(len(neighbours))], neighbours)\n",
        "plt.xlabel(\"all the points\")\n",
        "plt.ylabel(\"Distance of neighbour\")\n",
        "plt.show()"
      ],
      "metadata": {
        "colab": {
          "base_uri": "https://localhost:8080/",
          "height": 241
        },
        "id": "c6ZRgUBlG-PK",
        "outputId": "7fdab37e-76eb-4e8a-f672-efd8d63ffc93"
      },
      "execution_count": 93,
      "outputs": [
        {
          "output_type": "display_data",
          "data": {
            "text/plain": [
              "<Figure size 720x216 with 1 Axes>"
            ],
            "image/png": "[encoded data removed]"
          },
          "metadata": {
            "needs_background": "light"
          }
        }
      ]
    },
    {
      "cell_type": "code",
      "source": [
        "dsgn = DBSCAN(eps = 8, min_samples = points, n_jobs=-2)\n",
        "dsgn.fit(vectrs)\n",
        "Dataframe1['WMword design'] = dsgn.labels_\n",
        "Dataframe1.head(4)"
      ],
      "metadata": {
        "colab": {
          "base_uri": "https://localhost:8080/",
          "height": 566
        },
        "id": "8oCRZIkBHCIR",
        "outputId": "a990e5c6-5085-45f3-c6e1-1d7f87b8dc70"
      },
      "execution_count": 94,
      "outputs": [
        {
          "output_type": "execute_result",
          "data": {
            "text/plain": [
              "    index                                       Product Name Brand Name  \\\n",
              "0  249804  Motorola KRZR K1 Unlocked Phone with 2 MP Came...   Motorola   \n",
              "1   10719     Apple iPhone 4 A1332 32GB White (GSM Unlocked)      Apple   \n",
              "2  133723  BLU S480U Unlocked Studio 7.0 II Smartphone wi...        BLU   \n",
              "3  394744  Sony Xperia Z3 Compact D5803 16GB 4G LTE 4.6\" ...        NaN   \n",
              "\n",
              "    Price  Rating                                            Reviews  \\\n",
              "0   82.99       4  Phone showed up a little ahead of time. Worked...   \n",
              "1  138.97       5  I have been using the cell phone for 1 month a...   \n",
              "2     NaN       5  All I have to say is just WOW!!! Everything I ...   \n",
              "3  244.00       5                                   Love this phone!   \n",
              "\n",
              "   Review Votes                                           puncless  \\\n",
              "0           1.0  Phone showed up a little ahead of time. Worked...   \n",
              "1           0.0  I have been using the cell phone for 1 month a...   \n",
              "2           NaN  All I have to say is just WOW!!! Everything I ...   \n",
              "3           0.0                                   Love this phone!   \n",
              "\n",
              "                                          mstopwords  \\\n",
              "0  Phone showed little ahead time. Worked great e...   \n",
              "1  I using cell phone 1 month working good, would...   \n",
              "2  All I say WOW!!! Everything I wanted one. Ship...   \n",
              "3                                        Love phone!   \n",
              "\n",
              "                                             numbers  \\\n",
              "0  Phone showed little ahead time. Worked great e...   \n",
              "1  I using cell phone  month working good, would ...   \n",
              "2  All I say WOW!!! Everything I wanted one. Ship...   \n",
              "3                                        Love phone!   \n",
              "\n",
              "                                              lowest  \\\n",
              "0  phone showed little ahead time. worked great e...   \n",
              "1  i using cell phone month working good, would d...   \n",
              "2  all i say wow!!! everything i wanted one. ship...   \n",
              "3                                        love phone!   \n",
              "\n",
              "                                            stemming  \\\n",
              "0  phone show littl ahead time. work great except...   \n",
              "1  i use cell phone month work good, would define...   \n",
              "2  all i say wow!!! everyth i want one. ship pret...   \n",
              "3                                        love phone!   \n",
              "\n",
              "                                           freshdata  \\\n",
              "0  phone show littl ahead time. work great except...   \n",
              "1  i use cell phone month work good, would define...   \n",
              "2  all i say wow!!! everyth i want one. ship pret...   \n",
              "3                                        love phone!   \n",
              "\n",
              "   tf_idf cluster labelling  WMword design  \n",
              "0                         2              0  \n",
              "1                         2              0  \n",
              "2                         2              0  \n",
              "3                         4              0  "
            ],
            "text/html": [
              "\n",
              "  <div id=\"df-3b454db9-5e85-40f4-b11b-a42ed9c4b82f\">\n",
              "    <div class=\"colab-df-container\">\n",
              "      <div>\n",
              "<style scoped>\n",
              "    .dataframe tbody tr th:only-of-type {\n",
              "        vertical-align: middle;\n",
              "    }\n",
              "\n",
              "    .dataframe tbody tr th {\n",
              "        vertical-align: top;\n",
              "    }\n",
              "\n",
              "    .dataframe thead th {\n",
              "        text-align: right;\n",
              "    }\n",
              "</style>\n",
              "<table border=\"1\" class=\"dataframe\">\n",
              "  <thead>\n",
              "    <tr style=\"text-align: right;\">\n",
              "      <th></th>\n",
              "      <th>index</th>\n",
              "      <th>Product Name</th>\n",
              "      <th>Brand Name</th>\n",
              "      <th>Price</th>\n",
              "      <th>Rating</th>\n",
              "      <th>Reviews</th>\n",
              "      <th>Review Votes</th>\n",
              "      <th>puncless</th>\n",
              "      <th>mstopwords</th>\n",
              "      <th>numbers</th>\n",
              "      <th>lowest</th>\n",
              "      <th>stemming</th>\n",
              "      <th>freshdata</th>\n",
              "      <th>tf_idf cluster labelling</th>\n",
              "      <th>WMword design</th>\n",
              "    </tr>\n",
              "  </thead>\n",
              "  <tbody>\n",
              "    <tr>\n",
              "      <th>0</th>\n",
              "      <td>249804</td>\n",
              "      <td>Motorola KRZR K1 Unlocked Phone with 2 MP Came...</td>\n",
              "      <td>Motorola</td>\n",
              "      <td>82.99</td>\n",
              "      <td>4</td>\n",
              "      <td>Phone showed up a little ahead of time. Worked...</td>\n",
              "      <td>1.0</td>\n",
              "      <td>Phone showed up a little ahead of time. Worked...</td>\n",
              "      <td>Phone showed little ahead time. Worked great e...</td>\n",
              "      <td>Phone showed little ahead time. Worked great e...</td>\n",
              "      <td>phone showed little ahead time. worked great e...</td>\n",
              "      <td>phone show littl ahead time. work great except...</td>\n",
              "      <td>phone show littl ahead time. work great except...</td>\n",
              "      <td>2</td>\n",
              "      <td>0</td>\n",
              "    </tr>\n",
              "    <tr>\n",
              "      <th>1</th>\n",
              "      <td>10719</td>\n",
              "      <td>Apple iPhone 4 A1332 32GB White (GSM Unlocked)</td>\n",
              "      <td>Apple</td>\n",
              "      <td>138.97</td>\n",
              "      <td>5</td>\n",
              "      <td>I have been using the cell phone for 1 month a...</td>\n",
              "      <td>0.0</td>\n",
              "      <td>I have been using the cell phone for 1 month a...</td>\n",
              "      <td>I using cell phone 1 month working good, would...</td>\n",
              "      <td>I using cell phone  month working good, would ...</td>\n",
              "      <td>i using cell phone month working good, would d...</td>\n",
              "      <td>i use cell phone month work good, would define...</td>\n",
              "      <td>i use cell phone month work good, would define...</td>\n",
              "      <td>2</td>\n",
              "      <td>0</td>\n",
              "    </tr>\n",
              "    <tr>\n",
              "      <th>2</th>\n",
              "      <td>133723</td>\n",
              "      <td>BLU S480U Unlocked Studio 7.0 II Smartphone wi...</td>\n",
              "      <td>BLU</td>\n",
              "      <td>NaN</td>\n",
              "      <td>5</td>\n",
              "      <td>All I have to say is just WOW!!! Everything I ...</td>\n",
              "      <td>NaN</td>\n",
              "      <td>All I have to say is just WOW!!! Everything I ...</td>\n",
              "      <td>All I say WOW!!! Everything I wanted one. Ship...</td>\n",
              "      <td>All I say WOW!!! Everything I wanted one. Ship...</td>\n",
              "      <td>all i say wow!!! everything i wanted one. ship...</td>\n",
              "      <td>all i say wow!!! everyth i want one. ship pret...</td>\n",
              "      <td>all i say wow!!! everyth i want one. ship pret...</td>\n",
              "      <td>2</td>\n",
              "      <td>0</td>\n",
              "    </tr>\n",
              "    <tr>\n",
              "      <th>3</th>\n",
              "      <td>394744</td>\n",
              "      <td>Sony Xperia Z3 Compact D5803 16GB 4G LTE 4.6\" ...</td>\n",
              "      <td>NaN</td>\n",
              "      <td>244.00</td>\n",
              "      <td>5</td>\n",
              "      <td>Love this phone!</td>\n",
              "      <td>0.0</td>\n",
              "      <td>Love this phone!</td>\n",
              "      <td>Love phone!</td>\n",
              "      <td>Love phone!</td>\n",
              "      <td>love phone!</td>\n",
              "      <td>love phone!</td>\n",
              "      <td>love phone!</td>\n",
              "      <td>4</td>\n",
              "      <td>0</td>\n",
              "    </tr>\n",
              "  </tbody>\n",
              "</table>\n",
              "</div>\n",
              "      <button class=\"colab-df-convert\" onclick=\"convertToInteractive('df-3b454db9-5e85-40f4-b11b-a42ed9c4b82f')\"\n",
              "              title=\"Convert this dataframe to an interactive table.\"\n",
              "              style=\"display:none;\">\n",
              "        \n",
              "  <svg xmlns=\"http://www.w3.org/2000/svg\" height=\"24px\"viewBox=\"0 0 24 24\"\n",
              "       width=\"24px\">\n",
              "    <path d=\"M0 0h24v24H0V0z\" fill=\"none\"/>\n",
              "    <path d=\"M18.56 5.44l.94 2.06.94-2.06 2.06-.94-2.06-.94-.94-2.06-.94 2.06-2.06.94zm-11 1L8.5 8.5l.94-2.06 2.06-.94-2.06-.94L8.5 2.5l-.94 2.06-2.06.94zm10 10l.94 2.06.94-2.06 2.06-.94-2.06-.94-.94-2.06-.94 2.06-2.06.94z\"/><path d=\"M17.41 7.96l-1.37-1.37c-.4-.4-.92-.59-1.43-.59-.52 0-1.04.2-1.43.59L10.3 9.45l-7.72 7.72c-.78.78-.78 2.05 0 2.83L4 21.41c.39.39.9.59 1.41.59.51 0 1.02-.2 1.41-.59l7.78-7.78 2.81-2.81c.8-.78.8-2.07 0-2.86zM5.41 20L4 18.59l7.72-7.72 1.47 1.35L5.41 20z\"/>\n",
              "  </svg>\n",
              "      </button>\n",
              "      \n",
              "  <style>\n",
              "    .colab-df-container {\n",
              "      display:flex;\n",
              "      flex-wrap:wrap;\n",
              "      gap: 12px;\n",
              "    }\n",
              "\n",
              "    .colab-df-convert {\n",
              "      background-color: #E8F0FE;\n",
              "      border: none;\n",
              "      border-radius: 50%;\n",
              "      cursor: pointer;\n",
              "      display: none;\n",
              "      fill: #1967D2;\n",
              "      height: 32px;\n",
              "      padding: 0 0 0 0;\n",
              "      width: 32px;\n",
              "    }\n",
              "\n",
              "    .colab-df-convert:hover {\n",
              "      background-color: #E2EBFA;\n",
              "      box-shadow: 0px 1px 2px rgba(60, 64, 67, 0.3), 0px 1px 3px 1px rgba(60, 64, 67, 0.15);\n",
              "      fill: #174EA6;\n",
              "    }\n",
              "\n",
              "    [theme=dark] .colab-df-convert {\n",
              "      background-color: #3B4455;\n",
              "      fill: #D2E3FC;\n",
              "    }\n",
              "\n",
              "    [theme=dark] .colab-df-convert:hover {\n",
              "      background-color: #434B5C;\n",
              "      box-shadow: 0px 1px 3px 1px rgba(0, 0, 0, 0.15);\n",
              "      filter: drop-shadow(0px 1px 2px rgba(0, 0, 0, 0.3));\n",
              "      fill: #FFFFFF;\n",
              "    }\n",
              "  </style>\n",
              "\n",
              "      <script>\n",
              "        const buttonEl =\n",
              "          document.querySelector('#df-3b454db9-5e85-40f4-b11b-a42ed9c4b82f button.colab-df-convert');\n",
              "        buttonEl.style.display =\n",
              "          google.colab.kernel.accessAllowed ? 'block' : 'none';\n",
              "\n",
              "        async function convertToInteractive(key) {\n",
              "          const element = document.querySelector('#df-3b454db9-5e85-40f4-b11b-a42ed9c4b82f');\n",
              "          const dataTable =\n",
              "            await google.colab.kernel.invokeFunction('convertToInteractive',\n",
              "                                                     [key], {});\n",
              "          if (!dataTable) return;\n",
              "\n",
              "          const docLinkHtml = 'Like what you see? Visit the ' +\n",
              "            '<a target=\"_blank\" href=https://colab.research.google.com/notebooks/data_table.ipynb>data table notebook</a>'\n",
              "            + ' to learn more about interactive tables.';\n",
              "          element.innerHTML = '';\n",
              "          dataTable['output_type'] = 'display_data';\n",
              "          await google.colab.output.renderOutput(dataTable, element);\n",
              "          const docLink = document.createElement('div');\n",
              "          docLink.innerHTML = docLinkHtml;\n",
              "          element.appendChild(docLink);\n",
              "        }\n",
              "      </script>\n",
              "    </div>\n",
              "  </div>\n",
              "  "
            ]
          },
          "metadata": {},
          "execution_count": 94
        }
      ]
    },
    {
      "cell_type": "code",
      "source": [
        "import scipy\n",
        "from scipy.cluster import hierarchy\n",
        "Dendogram = hierarchy.dendrogram(hierarchy.linkage(vectrs,method='ward'))\n",
        "plt.axhline(y=10)"
      ],
      "metadata": {
        "colab": {
          "base_uri": "https://localhost:8080/",
          "height": 285
        },
        "id": "lHjLIA6dHFLA",
        "outputId": "d395056e-5c7c-4326-9848-002dd08d0357"
      },
      "execution_count": 95,
      "outputs": [
        {
          "output_type": "execute_result",
          "data": {
            "text/plain": [
              "<matplotlib.lines.Line2D at 0x7f66845b6ad0>"
            ]
          },
          "metadata": {},
          "execution_count": 95
        },
        {
          "output_type": "display_data",
          "data": {
            "text/plain": [
              "<Figure size 432x288 with 1 Axes>"
            ],
            "image/png": "[encoded data removed]"
          },
          "metadata": {
            "needs_background": "light"
          }
        }
      ]
    },
    {
      "cell_type": "code",
      "source": [
        "from sklearn.cluster import AgglomerativeClustering\n",
        "\n",
        "clust_anal = AgglomerativeClustering(n_clusters=7, affinity='euclidean', linkage='ward')  \n",
        "Agg = clust_anal.fit_predict(vectrs)\n",
        "Dataframe1['WMword cluster'] = clust_anal.labels_\n",
        "Dataframe1.head(6)\n",
        "Dataframe1.groupby(['WMword cluster'])['freshdata'].count()"
      ],
      "metadata": {
        "colab": {
          "base_uri": "https://localhost:8080/"
        },
        "id": "PhJRDWOIHQ2c",
        "outputId": "4ee14377-7ecd-4114-c2f9-17366cfec431"
      },
      "execution_count": 96,
      "outputs": [
        {
          "output_type": "execute_result",
          "data": {
            "text/plain": [
              "WMword cluster\n",
              "0    1518\n",
              "1    1062\n",
              "2     706\n",
              "3     147\n",
              "4     104\n",
              "5     129\n",
              "6     334\n",
              "Name: freshdata, dtype: int64"
            ]
          },
          "metadata": {},
          "execution_count": 96
        }
      ]
    },
    {
      "cell_type": "code",
      "source": [
        "for i in range(6):\n",
        "    print(\"sentence\", i) #reviews assigned to cluster\n",
        "    print(Dataframe1.iloc[Dataframe1.groupby(['WMword cluster']).groups[i][0]]['freshdata'])\n",
        "    print(Dataframe1.iloc[Dataframe1.groupby(['WMword cluster']).groups[i][1]]['freshdata'])\n"
      ],
      "metadata": {
        "colab": {
          "base_uri": "https://localhost:8080/"
        },
        "id": "beEc2NGbHXPb",
        "outputId": "882264fd-ef79-4a9e-b63a-e5e105dfc011"
      },
      "execution_count": 97,
      "outputs": [
        {
          "output_type": "stream",
          "name": "stdout",
          "text": [
            "sentence 0\n",
            "phone show littl ahead time. work great except send receiv pictures. i went at&t store sinc unlock much. i call at&t cust. servic spent min luck. he said server phone connect canadian mayb motorola could help. i went motorola onlin download fix. the onlin call phone, i answer fixed. the phone work excellent, look slick i glad i bought\n",
            "i use cell phone month work good, would definet recomend , need know kind appl cell phone doesnt work sprint, verizon metropc t mobil at & t work good.\n",
            "sentence 1\n",
            "both sim card connect well network updat data set later one network reboots.\n",
            "great phone. it' great bang buck deal. i'v impress speed phone far. everi app i'v use run without issu far.\n",
            "sentence 2\n",
            "all i say wow!!! everyth i want one. ship pretti fast :-)\n",
            "i realli love thi phone so much.....\n",
            "sentence 3\n",
            "excelent la compra de est equipo muy bueno lo recomiendo para futura compra lego tal cual como se esperaba\n",
            "mont later doesnt work\n",
            "sentence 4\n",
            "excelent, thanks.\n",
            "excellent!\n",
            "sentence 5\n",
            "muy bueno gracia\n",
            "buen producto\n"
          ]
        }
      ]
    },
    {
      "cell_type": "markdown",
      "metadata": {
        "id": "Ar_rneL19uEP"
      },
      "source": [
        "In one paragraph, please compare K means, DBSCAN and Hierarchical clustering."
      ]
    },
    {
      "cell_type": "markdown",
      "source": [
        "In general clustering means grouping of similar objects together or also differentiating the dissimilar object.Here K means clustering is the process of partitioning the data based on the number of clusters.Hierarchial clustering produces the set of clustered which are organised in the hierarchy.It uses similarity or distance matrix to form the clusters where as K means uses the K value to form the number of clusters.It does not need to assume the number of clusters as like K means.In Dense based scan forms the clusters based on the density of the objects.In this the clusters will be formed based on the given minimum number of points.This clustering algorithm also need not to assume the number of clusters."
      ],
      "metadata": {
        "id": "nxjbg6zljiQr"
      }
    },
    {
      "cell_type": "code",
      "source": [],
      "metadata": {
        "id": "BiFLfLfCnTAP"
      },
      "execution_count": null,
      "outputs": []
    }
  ],
  "metadata": {
    "kernelspec": {
      "display_name": "Python 3 (ipykernel)",
      "language": "python",
      "name": "python3"
    },
    "language_info": {
      "codemirror_mode": {
        "name": "ipython",
        "version": 3
      },
      "file_extension": ".py",
      "mimetype": "text/x-python",
      "name": "python",
      "nbconvert_exporter": "python",
      "pygments_lexer": "ipython3",
      "version": "3.9.12"
    },
    "colab": {
      "provenance": [],
      "include_colab_link": true
    }
  },
  "nbformat": 4,
  "nbformat_minor": 0
}