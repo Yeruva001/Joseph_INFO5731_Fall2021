{
  "cells": [
    {
      "cell_type": "markdown",
      "metadata": {
        "id": "view-in-github",
        "colab_type": "text"
      },
      "source": [
        "<a href=\"https://colab.research.google.com/github/Yeruva001/Joseph_INFO5731_Fall2021/blob/main/Yeruva_Assignment_one.ipynb\" target=\"_parent\"><img src=\"https://colab.research.google.com/assets/colab-badge.svg\" alt=\"Open In Colab\"/></a>"
      ]
    },
    {
      "cell_type": "markdown",
      "metadata": {
        "id": "Ryk8D1Q4Wsrp"
      },
      "source": [
        "# **INFO5731 Assignment One**"
      ]
    },
    {
      "cell_type": "markdown",
      "metadata": {
        "id": "90_NR8c5XGWc"
      },
      "source": [
        "# Question 1\n",
        "\n",
        "(20 points). Write a Python program to generate 12 random numbers between 1 and 100. Sort the list of numbers in ascending order and print it out. Sort the list of numbers in descending order and print it out. Calculate the average for the group and print it out."
      ]
    },
    {
      "cell_type": "code",
      "execution_count": null,
      "metadata": {
        "id": "5QX6bJjGWXY9",
        "outputId": "365507c6-c645-48a4-a45a-2fefff9da457"
      },
      "outputs": [
        {
          "name": "stdout",
          "output_type": "stream",
          "text": [
            "Random numbers =  [99, 75, 65, 10, 97, 5, 48, 32, 68, 90, 56, 41]\n",
            "Ascending order =  [5, 10, 32, 41, 48, 56, 65, 68, 75, 90, 97, 99]\n",
            "Descending order =  [99, 97, 90, 75, 68, 65, 56, 48, 41, 32, 10, 5]\n",
            "Average =  57.166666666666664\n"
          ]
        }
      ],
      "source": [
        "# Program to generate 12 random numbers between 1 and 100.\n",
        "import random\n",
        "rl = random.sample(range(1, 100),12)\n",
        "print(\"Random numbers = \",rl)\n",
        "rl.sort()\n",
        "print(\"Ascending order = \",rl)\n",
        "rl.sort(reverse=True)\n",
        "print(\"Descending order = \",rl)\n",
        "avg= (sum(rl))/len(rl)\n",
        "print(\"Average = \",str(avg))\n"
      ]
    },
    {
      "cell_type": "markdown",
      "metadata": {
        "id": "1F_PZdH9Sh49"
      },
      "source": [
        "# Question 2\n",
        "(25 points). Write a program that will do the following string formatting tasks:\n",
        "\n",
        "(1) Ask the user to enter two sentences.\n",
        "\n",
        "(2) Make each sentence into a list. Each element in the list should correspond to a word in the sentence. For example, if the sentence is \"Alas! Am I alive? This is my first python program\", the program should print out ['Alas, '!', 'Am', 'I', 'alive, '?', 'This', 'is', 'my', 'first', 'python', 'program'].\n",
        "\n",
        "(3) Compare the two sentences. Print out a list of words that occur in both sentences.\n",
        "\n",
        "(4) Remove any punctuation from the sentence and print it back out. It should remove at least the following characters, but it can remove more: period(“.”), comma (“,”), semicolon (“;”), and colon (“:”)\n",
        "\n",
        "(5) Count the number of vowels in the sentences. Print out each vowel and the number of times it appears in the sentences, such as: a:2, e:1, i:0, etc"
      ]
    },
    {
      "cell_type": "code",
      "execution_count": null,
      "metadata": {
        "id": "Y0oOSlsOS0cq",
        "outputId": "fa27dc12-f188-4e4c-8d31-f5b3682782f8"
      },
      "outputs": [
        {
          "name": "stdout",
          "output_type": "stream",
          "text": [
            "Enter the 1st sentence: \"Alas! Am I alive? This is my first python program\"\n",
            "\"Alas! Am I alive? This is my first python program\"\n",
            "Enter the 2nd sentence: \"Alas! Am I alive\"\n",
            "\"Alas! Am I alive\"\n",
            "splitting 1st sentence into the wordslist: ['\"Alas!', 'Am', 'I', 'alive?', 'This', 'is', 'my', 'first', 'python', 'program\"']\n",
            "splitting 2nd sentence into the wordslist: ['\"Alas!', 'Am', 'I', 'alive\"']\n",
            "wordslist in both the sentences: {'I', '\"Alas!', 'Am'}\n",
            "1st sentence without punct:Alas Am I alive This is my first python program\n",
            "2nd sentence without punct: Alas Am I alive This is my first python programe\n",
            "counting the vow in the 1st sentence:13\n",
            "printing each vowels in the 1st sentence: {'A': 0, 'a': 5, 'E': 0, 'e': 1, 'I': 0, 'i': 5, 'O': 0, 'o': 2, 'U': 0, 'u': 0}\n",
            "counting the vow in the 1st sentence:7\n",
            "printing each vowels in the 2nd sentence: {'A': 0, 'a': 4, 'E': 0, 'e': 1, 'I': 0, 'i': 2, 'O': 0, 'o': 0, 'U': 0, 'u': 0}\n"
          ]
        }
      ],
      "source": [
        "#Question(1)\n",
        "\n",
        "s1 = input(\"Enter the 1st sentence: \")\n",
        "print(s1)\n",
        "\n",
        "s2 = input(\"Enter the 2nd sentence: \")\n",
        "print(s2)\n",
        "\n",
        "#question(2)\n",
        "\n",
        "wordlist_1 = s1.split()\n",
        "print(\"splitting 1st sentence into the wordslist: \" + str(wordlist_1))\n",
        "\n",
        "wordlist_2 = s2.split()\n",
        "print(\"splitting 2nd sentence into the wordslist: \" + str(wordlist_2))\n",
        "\n",
        "#quesiton(3)\n",
        "\n",
        "combined_wordlist = set(wordlist_1)&set(wordlist_2)\n",
        "print(\"wordslist in both the sentences: \" + str(combined_wordlist))\n",
        "\n",
        "\n",
        "#question(4)\n",
        "\n",
        "punctuation = '''!()-[]{};:'\"\\,<>./?@#$%^&*_~'''\n",
        "no_of_punc_in_s1 = \"\"\n",
        "for character in s1:\n",
        "    if character not in punctuation:\n",
        "        no_of_punc_in_s1= no_of_punc_in_s1 + character\n",
        "print(\"1st sentence without punct:\" + str(no_of_punc_in_s1))\n",
        "\n",
        "no_of_punc_in_s2 = \"\"\n",
        "for character in s2:\n",
        "    if character not in punctuation:\n",
        "        no_of_punc_in_s2 = no_of_punc_in_s1 + character\n",
        "print(\"2nd sentence without punct: \" + str(no_of_punc_in_s2))\n",
        "\n",
        "#question(5)\n",
        "\n",
        "def check_for_Vowels(s1,vowel1):\n",
        "    f1 = [each for each in s1 if each in vowel1]\n",
        "    print(\"counting the vow in the 1st sentence:\" + str(len(f1)))\n",
        "    s1 = s1.casefold()\n",
        "    c1 = {}.fromkeys(vowel1, 0)\n",
        "    for char in s1:\n",
        "        if char in c1:\n",
        "            c1[char] += 1\n",
        "    return c1\n",
        "vowel1 = \"AaEeIiOoUu\"\n",
        "print(\"printing each vowels in the 1st sentence: \" + str(check_Vowels(s1, vowel1)))\n",
        "\n",
        "def Check_for_Vowels(s2,vowel2):\n",
        "    f2 = [each for each in s2 if each in vowel2]\n",
        "    print(\"counting the vow in the 2nd sentence: \" + str(len(f2)))\n",
        "    s2 = s2.casefold()\n",
        "    c2 = {}.fromkeys(vow2, 0)\n",
        "    for char in s2:\n",
        "        if char in c2:\n",
        "            c2[char] +=1\n",
        "    return c2\n",
        "vowel2 = \"AaEeIiOoUu\"\n",
        "print(\"printing each vowels in the 2nd sentence: \" + str(check_Vowels(s2, vowel2)))\n"
      ]
    },
    {
      "cell_type": "markdown",
      "metadata": {
        "id": "CmFoI4jDS9nx"
      },
      "source": [
        "# Question 3 \n",
        "\n",
        "(15 points). The formula that describes the volume V of a sphere with radius r is the following:\n",
        "\n",
        "$ V=\\frac{4}{3}\\ast\\ \\pi\\ast\\ r^3 $\n",
        "\n",
        "Write a program to calculate the value of V when r is in the range of 1–10. Output the result in the following format:\n",
        "\n",
        "\tr\tV\n",
        "\t1\t…\n",
        "\t2\t…\n",
        "\t3\t…\n"
      ]
    },
    {
      "cell_type": "code",
      "execution_count": null,
      "metadata": {
        "id": "pEyqeioAT95b",
        "outputId": "461308b3-106d-4784-ff04-ba10e2bb6964"
      },
      "outputs": [
        {
          "name": "stdout",
          "output_type": "stream",
          "text": [
            "Radius | Volume\n",
            "1      | 4.1866666666666665\n",
            "2      | 33.49333333333333\n",
            "3      | 113.03999999999999\n",
            "4      | 267.94666666666666\n",
            "5      | 523.3333333333334\n",
            "6      | 904.3199999999999\n",
            "7      | 1436.0266666666666\n",
            "8      | 2143.5733333333333\n",
            "9      | 3052.08\n",
            "10      | 4186.666666666667\n"
          ]
        }
      ],
      "source": [
        "# Program to calculate the value of V when r is in the range of 1 to 10.\n",
        "print(\"Radius | Volume\")\n",
        "for i in range(1,11):\n",
        "    print(i,end=\"      | \")\n",
        "    vol =(4/3)*(3.14)*(pow(i,3))\n",
        "    print(vol)"
      ]
    },
    {
      "cell_type": "markdown",
      "metadata": {
        "id": "z3tBE7E-Xn5X"
      },
      "source": [
        "# Question 4\n",
        "\n",
        "(40 points). In the field of Data Science, data is often formatted as a comma-delimited (CSV) file, where each line in a file corresponds to a field's value. Refer to Chapter 9 (p. 106) for more information on comma-delimited files. To answer this question, you will need to download the file [Assignment1_denton_housing.csv](https://raw.githubusercontent.com/unt-iialab/info5731-spring2022/main/assignments/Assignment1_denton_housing.csv) included with this assignment. The file [Assignment1_denton_housing.csv](https://raw.githubusercontent.com/unt-iialab/info5731-spring2022/main/assignments/Assignment1_denton_housing.csv) contains statistics about housing in the city of Denton from 2008 to 2014. Write a program to implement the following questions.\n",
        "\n",
        "(1) (10 pts) Calculate the difference in the number of Occupied Housing Units from year to year and print it. The difference must be calculated for the consecutive years such as 2008-2009, 2009-2010 etc. Finally, print the values in the ascending order.\n",
        "\n",
        "(2) (10 pts) For all the years, calculate the percentage of housing units which are vacant an occupied. Print the results in the following format:\n",
        "\n",
        "Year Vacant Housing Units Occupied Housing Units\n",
        "\n",
        "    2008  30%   70%                          \n",
        "\t2009 ----- -----\n",
        "\t2010 ----- -----\n",
        "    2011 ----- -----\n",
        "\t2012 ----- -----\n",
        "    2013 ----- -----\n",
        "\t2014 ----- -----\n",
        "  \n",
        "  \n",
        "\n",
        "(3) (10 pts) Calculate and print the valued and years in which the highest number of housing units were vacant and occupied. Print the results in the following format:  \n",
        "\n",
        "                              Year\tValue\n",
        "\tVacant Housing Units\t  -----   -----\n",
        "\tOccupied Housing Units\t-----   -----\n",
        "\n",
        "(4) (10 pts) Calculate the harmonic mean of the total housing units and print it out. You can find the information about harmonic mean here: https://ncalculators.com/statistics/harmonic-mean-calculator.htm"
      ]
    },
    {
      "cell_type": "code",
      "execution_count": null,
      "metadata": {
        "id": "lqGYuHBhcsRH",
        "scrolled": true,
        "outputId": "9ecfcd6e-5312-4430-b679-2fbc2abe7229"
      },
      "outputs": [
        {
          "name": "stdout",
          "output_type": "stream",
          "text": [
            "Difference in no of Occ Housing Units from year to year:\n",
            "-795.0\n",
            "-303.0\n",
            "1404.0\n",
            "1565.0\n",
            "2622.0\n",
            "5091.0\n",
            "   NaN\n",
            " \n",
            " year  Vct Housing Units  Occ Housing Units\n",
            " 2008          10.882653          10.882653\n",
            " 2009           9.071116           9.071116\n",
            " 2010           8.142556           8.142556\n",
            " 2011           9.379522           9.379522\n",
            " 2012           6.677600           6.677600\n",
            " 2013           8.801788           8.801788\n",
            " 2014           5.730111           5.730111\n",
            " \n",
            "           title_field  year  value\n",
            "  Vacant Housing Units  2008   4483\n",
            "Occupied Housing Units  2014  46295\n",
            " \n",
            "Hormonic Mean :  44398.28543969185\n"
          ]
        }
      ],
      "source": [
        "#quesiton(1)\n",
        "\n",
        "import pandas as p\n",
        "file_url = \"https://raw.githubusercontent.com/unt-iialab/info5731-fall2021/main/assignments/Assignment1_denton_housing.csv\"\n",
        "read_file = p.read_csv(file_url)\n",
        "read_file = read_file[read_file['title_field']=='Occupied Housing Units']\n",
        "sort_yrs = read_file.sort_values('year')\n",
        "years_after_sort = sort_yrs['value'].diff().sort_values()\n",
        "print('Difference in no of Occ Housing Units from year to year:')\n",
        "print(years_after_sort.to_string(index=False))\n",
        "print(\" \")\n",
        "\n",
        "#question(2)\n",
        "\n",
        "import pandas as p\n",
        "count1 = 0\n",
        "count2 = 0\n",
        "number_of_vacant_houses = []\n",
        "number_of_occupied_houses = []\n",
        "file_url = \"https://raw.githubusercontent.com/unt-iialab/info5731-fall2021/main/assignments/Assignment1_denton_housing.csv\"\n",
        "read_file = p.read_csv(file_url)\n",
        "read_f1 = read_file[(read_file['title_field'] == 'Vacant Housing Units')].sort_values('year')['value'].tolist()\n",
        "read_f2 = read_file[(read_file['title_field'] == 'Occupied Housing Units')].sort_values('year')['value'].tolist()\n",
        "read_f3 = read_file[(read_file['title_field'] == 'Total Housing Units')].sort_values('year')\n",
        "for vacant in read_f3['value']:\n",
        "    percent = (read_f1[count1]/vacant)*100\n",
        "    count1+=1\n",
        "    number_of_vacant_houses.append(percent)\n",
        "for occupied in read_f3['value']:\n",
        "    percent = (read_f1[count2]/occupied)*100\n",
        "    count2+=1\n",
        "    number_of_occupied_houses.append(percent)   \n",
        "vacant = p.DataFrame(number_of_vacant_houses,columns=['Vct Housing Units'])\n",
        "occupied = p.DataFrame(number_of_occupied_houses,columns=['Occ Housing Units'])\n",
        "total = p.concat([vacant,occupied],axis=1)\n",
        "total = p.concat([read_csv_file_3['year'].reset_index(),total],axis=1)\n",
        "total = total[['year','Vct Housing Units','Occ Housing Units']]    \n",
        "print(total.to_string(index=False))\n",
        "print(\" \")\n",
        "\n",
        "#question(3)\n",
        "\n",
        "import pandas as pd\n",
        "file_url = \"https://raw.githubusercontent.com/unt-iialab/info5731-fall2021/main/assignments/Assignment1_denton_housing.csv\"\n",
        "df=p.read_csv(file_url)\n",
        "df[df['title_field'] == 'Vct Housing Units']\n",
        "\n",
        "Max_of_vacant=df.loc[df['title_field'] == 'Vacant Housing Units']\n",
        "Max1=Max_of_vacant[Max_of_vacant.value == Max_of_vacant.value.max()]\n",
        "\n",
        "Max_of_occupied=df.loc[df['title_field'] == 'Occupied Housing Units']\n",
        "Max2=Max_of_occupied[Max_of_occupied.value == Max_of_occupied.value.max()]\n",
        "\n",
        "df1=pd.concat([Max1,Max2])\n",
        "df1_final = df1[['title_field','year','value']]\n",
        "print(df1_final.to_string(index=False))\n",
        "print(\" \")\n",
        "\n",
        "#question(4)\n",
        "\n",
        "import pandas as p\n",
        "import numpy as n\n",
        "from scipy import stats\n",
        "f_url = \"https://raw.githubusercontent.com/unt-iialab/info5731-fall2021/main/assignments/Assignment1_denton_housing.csv\"\n",
        "read_file = p.read_csv(file_url)\n",
        "read_file=read_file[read_file['title_field']=='Total Housing Units']\n",
        "h_mean=stats.hmean(read_file['value'])\n",
        "print(f\"Hormonic Mean :  {h_mean}\")\n",
        "\n",
        "\n"
      ]
    }
  ],
  "metadata": {
    "colab": {
      "collapsed_sections": [],
      "provenance": [],
      "include_colab_link": true
    },
    "kernelspec": {
      "display_name": "Python 3 (ipykernel)",
      "language": "python",
      "name": "python3"
    },
    "language_info": {
      "codemirror_mode": {
        "name": "ipython",
        "version": 3
      },
      "file_extension": ".py",
      "mimetype": "text/x-python",
      "name": "python",
      "nbconvert_exporter": "python",
      "pygments_lexer": "ipython3",
      "version": "3.9.7"
    }
  },
  "nbformat": 4,
  "nbformat_minor": 0
}